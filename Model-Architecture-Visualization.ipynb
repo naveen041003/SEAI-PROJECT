{
 "cells": [
  {
   "cell_type": "code",
   "execution_count": 13,
   "metadata": {},
   "outputs": [],
   "source": [
    "# Importing other necessary libraries\n",
    "import tensorflow as tf\n",
    "from tensorflow.keras.models import Sequential\n",
    "from tensorflow.keras.layers import Input, Convolution2D, MaxPooling2D, Dense, Dropout, Flatten, BatchNormalization, GaussianNoise\n",
    "from tensorflow.keras.callbacks import ModelCheckpoint, CSVLogger, LearningRateScheduler, EarlyStopping\n",
    "from tensorflow.keras.preprocessing.image import ImageDataGenerator, array_to_img, img_to_array, load_img\n",
    "from tensorflow.keras.optimizers import SGD, Adam, schedules\n",
    "from tensorflow.keras.preprocessing import image\n",
    "from tensorflow.keras.models import Model, load_model\n",
    "from tensorflow import keras\n",
    "\n",
    "from datetime import datetime\n",
    "import os\n",
    "\n",
    "import visualkeras\n",
    "from PIL import ImageFont\n",
    "\n"
   ]
  },
  {
   "cell_type": "code",
   "execution_count": 14,
   "metadata": {},
   "outputs": [
    {
     "data": {
      "image/png": "[encoded data removed]",
      "text/plain": [
       "<PIL.Image.Image image mode=RGBA size=543x216 at 0x21749DB07F0>"
      ]
     },
     "execution_count": 14,
     "metadata": {},
     "output_type": "execute_result"
    }
   ],
   "source": [
    "##############################################################################################\n",
    "\"\"\"\n",
    "Remarks: \n",
    "1. Put this train script outside a train folder, inside train folder there should be test_data, train_data.\n",
    "         \n",
    "2. Specify the model_name. The weights and logs folder will be saved inside trainfolder->model_name\n",
    "\n",
    "3. Select GPU, 0 or 1\n",
    "         \n",
    "\"\"\"\n",
    "# Specify the paths\n",
    "##############################################################################################\n",
    "model = tf.keras.models.Sequential([\n",
    "            #Convolution Block\n",
    "            tf.keras.layers.Conv2D(256, (3, 3), activation = 'relu', input_shape = (32, 32, 3), padding='same'),\n",
    "            tf.keras.layers.MaxPooling2D(2, 2),\n",
    "            tf.keras.layers.Conv2D(128, (3, 3), activation = 'relu', padding='same'),\n",
    "            tf.keras.layers.MaxPooling2D(2, 2),\n",
    "            tf.keras.layers.Conv2D(64, (3, 3), activation = 'relu', padding='same'),\n",
    "            tf.keras.layers.MaxPooling2D(2, 2),\n",
    "            tf.keras.layers.Conv2D(64, (3, 3), activation = 'relu', padding='same'),\n",
    "            tf.keras.layers.MaxPooling2D(2, 2),\n",
    "\n",
    "            #Flatten\n",
    "            tf.keras.layers.Flatten(),\n",
    "            \n",
    "            #Fully Connected Layer\n",
    "            tf.keras.layers.Dense(256, activation = 'relu'),\n",
    "            tf.keras.layers.Dropout(0.5),\n",
    "            tf.keras.layers.Dense(128, activation = 'relu'),\n",
    "            tf.keras.layers.Dropout(0.5),\n",
    "            tf.keras.layers.Dense(64, activation = 'relu'),\n",
    "            tf.keras.layers.Dropout(0.5),\n",
    "            tf.keras.layers.Dense(4, activation='softmax')\n",
    "        ])\n",
    "\n",
    "font = ImageFont.truetype(\"arial.ttf\", 15)  # using comic sans is strictly prohibited!\n",
    "\n",
    "visualkeras.layered_view(model, legend=True, draw_volume=True, font=font, spacing=10)  # font is optional!"
   ]
  }
 ],
 "metadata": {
  "interpreter": {
   "hash": "191215347008d21aeda8f0ff53f97cd81205e58cf8cc7feecc68758b9ad47136"
  },
  "kernelspec": {
   "display_name": "Python 3.8.5 64-bit ('AI': conda)",
   "language": "python",
   "name": "python3"
  },
  "language_info": {
   "codemirror_mode": {
    "name": "ipython",
    "version": 3
   },
   "file_extension": ".py",
   "mimetype": "text/x-python",
   "name": "python",
   "nbconvert_exporter": "python",
   "pygments_lexer": "ipython3",
   "version": "3.8.5"
  },
  "orig_nbformat": 4
 },
 "nbformat": 4,
 "nbformat_minor": 2
}
